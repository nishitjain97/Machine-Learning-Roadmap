{
 "cells": [
  {
   "cell_type": "code",
   "execution_count": 28,
   "metadata": {},
   "outputs": [],
   "source": [
    "from numpy import *"
   ]
  },
  {
   "cell_type": "code",
   "execution_count": 29,
   "metadata": {},
   "outputs": [],
   "source": [
    "def loadDataSet(filename):\n",
    "    dataMat = []\n",
    "    fr = open(filename)\n",
    "    for line in fr.readlines():\n",
    "        curLine = line.strip().split('\\t')\n",
    "        fltLine = list(map(float, curLine))\n",
    "        dataMat.append(fltLine)\n",
    "    return dataMat"
   ]
  },
  {
   "cell_type": "code",
   "execution_count": 30,
   "metadata": {},
   "outputs": [],
   "source": [
    "def distEclud(vecA, vecB):\n",
    "    return sqrt(sum(power(vecA - vecB, 2)))"
   ]
  },
  {
   "cell_type": "code",
   "execution_count": 31,
   "metadata": {},
   "outputs": [],
   "source": [
    "def randCent(dataset, k):\n",
    "    n = shape(dataset)[1]\n",
    "    centroids = mat(zeros((k, n)))\n",
    "    for j in range(n):\n",
    "        minJ = min(dataset[:, j])\n",
    "        rangeJ = float(max(dataset[:, j]) - minJ)\n",
    "        centroids[:, j] = minJ + rangeJ * random.rand(k, 1)\n",
    "    return centroids"
   ]
  },
  {
   "cell_type": "code",
   "execution_count": 32,
   "metadata": {},
   "outputs": [],
   "source": [
    "datMat = mat(loadDataSet('testSet.txt'))"
   ]
  },
  {
   "cell_type": "code",
   "execution_count": 33,
   "metadata": {},
   "outputs": [
    {
     "data": {
      "text/plain": [
       "matrix([[-5.379713]])"
      ]
     },
     "execution_count": 33,
     "metadata": {},
     "output_type": "execute_result"
    }
   ],
   "source": [
    "min(datMat[:, 0])"
   ]
  },
  {
   "cell_type": "code",
   "execution_count": 34,
   "metadata": {},
   "outputs": [
    {
     "data": {
      "text/plain": [
       "matrix([[-4.232586]])"
      ]
     },
     "execution_count": 34,
     "metadata": {},
     "output_type": "execute_result"
    }
   ],
   "source": [
    "min(datMat[:, 1])"
   ]
  },
  {
   "cell_type": "code",
   "execution_count": 35,
   "metadata": {},
   "outputs": [
    {
     "data": {
      "text/plain": [
       "matrix([[4.838138]])"
      ]
     },
     "execution_count": 35,
     "metadata": {},
     "output_type": "execute_result"
    }
   ],
   "source": [
    "max(datMat[:, 0])"
   ]
  },
  {
   "cell_type": "code",
   "execution_count": 36,
   "metadata": {},
   "outputs": [
    {
     "data": {
      "text/plain": [
       "matrix([[5.1904]])"
      ]
     },
     "execution_count": 36,
     "metadata": {},
     "output_type": "execute_result"
    }
   ],
   "source": [
    "max(datMat[:, 1])"
   ]
  },
  {
   "cell_type": "code",
   "execution_count": 37,
   "metadata": {},
   "outputs": [
    {
     "data": {
      "text/plain": [
       "matrix([[ 2.57737652, -1.90162389],\n",
       "        [ 0.01797468, -0.99124161]])"
      ]
     },
     "execution_count": 37,
     "metadata": {},
     "output_type": "execute_result"
    }
   ],
   "source": [
    "randCent(datMat, 2)"
   ]
  },
  {
   "cell_type": "code",
   "execution_count": 38,
   "metadata": {},
   "outputs": [
    {
     "data": {
      "text/plain": [
       "5.184632816681332"
      ]
     },
     "execution_count": 38,
     "metadata": {},
     "output_type": "execute_result"
    }
   ],
   "source": [
    "distEclud(datMat[0], datMat[1])"
   ]
  },
  {
   "cell_type": "code",
   "execution_count": 45,
   "metadata": {},
   "outputs": [],
   "source": [
    "def kMeans(dataset, k, distMeas=distEclud, createCent=randCent):\n",
    "    m = shape(dataset)[0]\n",
    "    clusterAssment = mat(zeros((m, 2)))\n",
    "    centroids = createCent(dataset, k)\n",
    "    clusterChanged = True\n",
    "    \n",
    "    while clusterChanged:\n",
    "        clusterChanged = False\n",
    "        for i in range(m):\n",
    "            minDist = inf\n",
    "            minIndex = -1\n",
    "            for j in range(k):\n",
    "                distJI = distMeas(centroids[j, :], dataset[i, :])\n",
    "                if distJI < minDist:\n",
    "                    minDist = distJI\n",
    "                    minIndex = j\n",
    "            if clusterAssment[i, 0] != minIndex:\n",
    "                clusterChanged = True\n",
    "            clusterAssment[i, :] = minIndex, minDist**2\n",
    "        print(centroids)\n",
    "        for cent in range(k):\n",
    "            ptsInClust = dataset[nonzero(clusterAssment[:, 0].A == cent)[0]]\n",
    "            centroids[cent, :] = mean(ptsInClust, axis=0)\n",
    "    return centroids, clusterAssment"
   ]
  },
  {
   "cell_type": "code",
   "execution_count": 46,
   "metadata": {},
   "outputs": [],
   "source": [
    "dataMat = mat(loadDataSet('testSet.txt'))"
   ]
  },
  {
   "cell_type": "code",
   "execution_count": 47,
   "metadata": {},
   "outputs": [
    {
     "name": "stdout",
     "output_type": "stream",
     "text": [
      "[[ 3.83987395 -3.30114478]\n",
      " [ 2.9688938   2.14504747]\n",
      " [ 1.73225712  0.56896469]\n",
      " [-3.37358249  3.67254536]]\n",
      "[[ 2.51621757 -2.96890957]\n",
      " [ 2.6265299   3.10868015]\n",
      " [-2.88429492 -2.78125767]\n",
      " [-2.92772907  1.40343281]]\n",
      "[[ 2.80293085 -2.7315146 ]\n",
      " [ 2.6265299   3.10868015]\n",
      " [-3.38237045 -2.9473363 ]\n",
      " [-2.46154315  2.78737555]]\n"
     ]
    }
   ],
   "source": [
    "myCentroids, clustAssing = kMeans(dataMat, 4)"
   ]
  },
  {
   "cell_type": "code",
   "execution_count": 52,
   "metadata": {},
   "outputs": [],
   "source": [
    "def biKMeans(dataset, k, distMeas=distEclud):\n",
    "    m = shape(dataset)[0]\n",
    "    clusterAssment = mat(zeros((m, 2)))\n",
    "    centroid0 = mean(dataset, axis=0).tolist()[0]\n",
    "    centList = [centroid0]\n",
    "    for j in range(m):\n",
    "        clusterAssment[j, 1] = distMeas(mat(centroid0), dataset[j, :])**2\n",
    "    while(len(centList) < k):\n",
    "        lowestSSE = inf\n",
    "        for i in range(len(centList)):\n",
    "            ptsInCurrCluster = dataset[nonzero(clusterAssment[:, 0].A == i)[0], :]\n",
    "            centroidMat, splitClustAss = kMeans(ptsInCurrCluster, 2, distMeas)\n",
    "            sseSplit = sum(splitClustAss[:, 1])\n",
    "            sseNotSplit = sum(clusterAssment[nonzero(clusterAssment[:, 0].A != i)[0], 1])\n",
    "            print(\"SSE split and notSplit:\", sseSplit, sseNotSplit)\n",
    "            if(sseSplit + sseNotSplit) < lowestSSE:\n",
    "                bestCentToSplit = i\n",
    "                bestNewCents = centroidMat\n",
    "                bestClustAss = splitClustAss.copy()\n",
    "                lowestSSE = sseSplit + sseNotSplit\n",
    "        bestClustAss[nonzero(bestClustAss[:, 0].A == 1)[0], 0] = len(centList)\n",
    "        bestClustAss[nonzero(bestClustAss[:, 0].A == 0)[0], 0] = bestCentToSplit\n",
    "        print(\"The best cent to split is:\", bestCentToSplit)\n",
    "        print(\"Size of best cent is:\", len(bestClustAss))\n",
    "        centList[bestCentToSplit] = bestNewCents[0, :]\n",
    "        centList.append(bestNewCents[1, :])\n",
    "        clusterAssment[nonzero(clusterAssment[:, 0].A == bestCentToSplit)[0], :] = bestClustAss\n",
    "    return centList, clusterAssment"
   ]
  },
  {
   "cell_type": "code",
   "execution_count": 53,
   "metadata": {},
   "outputs": [],
   "source": [
    "dataMat = mat(loadDataSet('testSet2.txt'))"
   ]
  },
  {
   "cell_type": "code",
   "execution_count": 54,
   "metadata": {},
   "outputs": [
    {
     "name": "stdout",
     "output_type": "stream",
     "text": [
      "[[ 1.83307506 -4.10569911]\n",
      " [-4.51500369 -3.41485422]]\n",
      "[[ 1.56386544  0.44157706]\n",
      " [-2.74010504  2.40095971]]\n",
      "[[ 1.23710375  0.17480612]\n",
      " [-2.94737575  3.3263781 ]]\n",
      "SSE split and notSplit: 570.7227574246755 0.0\n",
      "The best cent to split is: 0\n",
      "Size of best cent is: 60\n",
      "[[-1.19694337 -2.27237651]\n",
      " [-0.74723577 -0.26632899]]\n",
      "[[-0.43154563 -2.87788837]\n",
      " [ 2.74683414  2.93676781]]\n",
      "[[-0.45965615 -2.7782156 ]\n",
      " [ 2.93386365  3.12782785]]\n",
      "SSE split and notSplit: 68.68654812621844 38.06295063565756\n",
      "[[-3.50024443  1.95849203]\n",
      " [-2.26808914  2.14603161]]\n",
      "[[-3.70693073  3.29348345]\n",
      " [-2.01903078  3.36658267]]\n",
      "[[-3.58362738  3.28784469]\n",
      " [-1.76576557  3.39794014]]\n",
      "SSE split and notSplit: 22.971771896318412 532.6598067890178\n",
      "The best cent to split is: 0\n",
      "Size of best cent is: 40\n"
     ]
    }
   ],
   "source": [
    "centList, myNewAssments = biKMeans(dataMat, 3)"
   ]
  },
  {
   "cell_type": "code",
   "execution_count": 55,
   "metadata": {},
   "outputs": [
    {
     "data": {
      "text/plain": [
       "[matrix([[-0.45965615, -2.7782156 ]]),\n",
       " matrix([[-2.94737575,  3.3263781 ]]),\n",
       " matrix([[2.93386365, 3.12782785]])]"
      ]
     },
     "execution_count": 55,
     "metadata": {},
     "output_type": "execute_result"
    }
   ],
   "source": [
    "centList"
   ]
  },
  {
   "cell_type": "code",
   "execution_count": null,
   "metadata": {},
   "outputs": [],
   "source": []
  }
 ],
 "metadata": {
  "kernelspec": {
   "display_name": "Python 3",
   "language": "python",
   "name": "python3"
  },
  "language_info": {
   "codemirror_mode": {
    "name": "ipython",
    "version": 3
   },
   "file_extension": ".py",
   "mimetype": "text/x-python",
   "name": "python",
   "nbconvert_exporter": "python",
   "pygments_lexer": "ipython3",
   "version": "3.6.5"
  }
 },
 "nbformat": 4,
 "nbformat_minor": 2
}
