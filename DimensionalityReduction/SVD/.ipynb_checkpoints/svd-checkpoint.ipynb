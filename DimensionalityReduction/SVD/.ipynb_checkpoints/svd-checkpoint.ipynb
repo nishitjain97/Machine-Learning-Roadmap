{
 "cells": [
  {
   "cell_type": "code",
   "execution_count": 33,
   "metadata": {},
   "outputs": [],
   "source": [
    "from numpy import *"
   ]
  },
  {
   "cell_type": "code",
   "execution_count": 34,
   "metadata": {},
   "outputs": [],
   "source": [
    "U, Sigma, VT = linalg.svd([[1, 1], [7, 7]])"
   ]
  },
  {
   "cell_type": "code",
   "execution_count": 35,
   "metadata": {},
   "outputs": [
    {
     "data": {
      "text/plain": [
       "array([[-0.14142136, -0.98994949],\n",
       "       [-0.98994949,  0.14142136]])"
      ]
     },
     "execution_count": 35,
     "metadata": {},
     "output_type": "execute_result"
    }
   ],
   "source": [
    "U"
   ]
  },
  {
   "cell_type": "code",
   "execution_count": 36,
   "metadata": {},
   "outputs": [
    {
     "data": {
      "text/plain": [
       "array([10.,  0.])"
      ]
     },
     "execution_count": 36,
     "metadata": {},
     "output_type": "execute_result"
    }
   ],
   "source": [
    "Sigma"
   ]
  },
  {
   "cell_type": "code",
   "execution_count": 37,
   "metadata": {},
   "outputs": [
    {
     "data": {
      "text/plain": [
       "array([[-0.70710678, -0.70710678],\n",
       "       [-0.70710678,  0.70710678]])"
      ]
     },
     "execution_count": 37,
     "metadata": {},
     "output_type": "execute_result"
    }
   ],
   "source": [
    "VT"
   ]
  },
  {
   "cell_type": "code",
   "execution_count": 38,
   "metadata": {},
   "outputs": [],
   "source": [
    "def loadExData():\n",
    "    return [\n",
    "        [1, 1, 1, 0, 0],\n",
    "        [2, 2, 2, 0, 0],\n",
    "        [1, 1, 1, 0, 0],\n",
    "        [5, 5, 5, 0, 0],\n",
    "        [1, 1, 0, 2, 2],\n",
    "        [0, 0, 0, 3, 3],\n",
    "        [0, 0, 0, 1, 1]\n",
    "    ]"
   ]
  },
  {
   "cell_type": "code",
   "execution_count": 39,
   "metadata": {},
   "outputs": [],
   "source": [
    "Data = loadExData()"
   ]
  },
  {
   "cell_type": "code",
   "execution_count": 40,
   "metadata": {},
   "outputs": [],
   "source": [
    "U, Sigma, VT = linalg.svd(Data)"
   ]
  },
  {
   "cell_type": "code",
   "execution_count": 41,
   "metadata": {},
   "outputs": [
    {
     "data": {
      "text/plain": [
       "array([9.72140007e+00, 5.29397912e+00, 6.84226362e-01, 1.58746493e-15,\n",
       "       3.13347038e-31])"
      ]
     },
     "execution_count": 41,
     "metadata": {},
     "output_type": "execute_result"
    }
   ],
   "source": [
    "Sigma"
   ]
  },
  {
   "cell_type": "code",
   "execution_count": 42,
   "metadata": {},
   "outputs": [],
   "source": [
    "Sig3 = mat([\n",
    "    [Sigma[0], 0, 0],\n",
    "    [0, Sigma[1], 0],\n",
    "    [0, 0, Sigma[2]]\n",
    "])"
   ]
  },
  {
   "cell_type": "code",
   "execution_count": 43,
   "metadata": {},
   "outputs": [
    {
     "data": {
      "text/plain": [
       "matrix([[ 1.00000000e+00,  1.00000000e+00,  1.00000000e+00,\n",
       "         -2.69315820e-16, -2.70616862e-16],\n",
       "        [ 2.00000000e+00,  2.00000000e+00,  2.00000000e+00,\n",
       "          4.61219604e-16,  4.57966998e-16],\n",
       "        [ 1.00000000e+00,  1.00000000e+00,  1.00000000e+00,\n",
       "          1.15543426e-15,  1.15185639e-15],\n",
       "        [ 5.00000000e+00,  5.00000000e+00,  5.00000000e+00,\n",
       "         -1.50053581e-16, -1.66533454e-16],\n",
       "        [ 1.00000000e+00,  1.00000000e+00, -6.10622664e-16,\n",
       "          2.00000000e+00,  2.00000000e+00],\n",
       "        [-1.11022302e-16,  1.80411242e-15, -1.77635684e-15,\n",
       "          3.00000000e+00,  3.00000000e+00],\n",
       "        [-7.63278329e-17,  5.48172618e-16, -4.85722573e-16,\n",
       "          1.00000000e+00,  1.00000000e+00]])"
      ]
     },
     "execution_count": 43,
     "metadata": {},
     "output_type": "execute_result"
    }
   ],
   "source": [
    "U[:, :3] * Sig3 * VT[:3, :]"
   ]
  },
  {
   "cell_type": "code",
   "execution_count": 44,
   "metadata": {},
   "outputs": [],
   "source": [
    "from numpy import *\n",
    "from numpy import linalg as la"
   ]
  },
  {
   "cell_type": "code",
   "execution_count": 45,
   "metadata": {},
   "outputs": [],
   "source": [
    "def ecludSim(inA, inB):\n",
    "    return 1.0 / (1.0 + la.norm(inA - inB))\n",
    "\n",
    "def pearsSim(inA, inB):\n",
    "    if len(inA) < 3:\n",
    "        return 1.0\n",
    "    return 0.5 + 0.5 * corrcoef(inA, inB, rowvar=0)[0][1]\n",
    "\n",
    "def cosSim(inA, inB):\n",
    "    num = float(inA.T * inB)\n",
    "    denom = la.norm(inA) * la.norm(inB)\n",
    "    return 0.5 + 0.5 * (num / denom)"
   ]
  },
  {
   "cell_type": "code",
   "execution_count": 46,
   "metadata": {},
   "outputs": [],
   "source": [
    "myMat = mat(loadExData())"
   ]
  },
  {
   "cell_type": "code",
   "execution_count": 47,
   "metadata": {},
   "outputs": [
    {
     "data": {
      "text/plain": [
       "0.13367660240019172"
      ]
     },
     "execution_count": 47,
     "metadata": {},
     "output_type": "execute_result"
    }
   ],
   "source": [
    "ecludSim(myMat[:, 0], myMat[:, 4])"
   ]
  },
  {
   "cell_type": "code",
   "execution_count": 48,
   "metadata": {},
   "outputs": [
    {
     "data": {
      "text/plain": [
       "1.0"
      ]
     },
     "execution_count": 48,
     "metadata": {},
     "output_type": "execute_result"
    }
   ],
   "source": [
    "ecludSim(myMat[:, 0], myMat[:, 0])"
   ]
  },
  {
   "cell_type": "code",
   "execution_count": 49,
   "metadata": {},
   "outputs": [
    {
     "data": {
      "text/plain": [
       "0.5472455591261534"
      ]
     },
     "execution_count": 49,
     "metadata": {},
     "output_type": "execute_result"
    }
   ],
   "source": [
    "cosSim(myMat[:, 0], myMat[:, 4])"
   ]
  },
  {
   "cell_type": "code",
   "execution_count": 50,
   "metadata": {},
   "outputs": [
    {
     "data": {
      "text/plain": [
       "0.9999999999999999"
      ]
     },
     "execution_count": 50,
     "metadata": {},
     "output_type": "execute_result"
    }
   ],
   "source": [
    "cosSim(myMat[:, 0], myMat[:, 0])"
   ]
  },
  {
   "cell_type": "code",
   "execution_count": 51,
   "metadata": {},
   "outputs": [
    {
     "data": {
      "text/plain": [
       "0.23768619407595826"
      ]
     },
     "execution_count": 51,
     "metadata": {},
     "output_type": "execute_result"
    }
   ],
   "source": [
    "pearsSim(myMat[:, 0], myMat[:, 4])"
   ]
  },
  {
   "cell_type": "code",
   "execution_count": 52,
   "metadata": {},
   "outputs": [
    {
     "data": {
      "text/plain": [
       "1.0"
      ]
     },
     "execution_count": 52,
     "metadata": {},
     "output_type": "execute_result"
    }
   ],
   "source": [
    "pearsSim(myMat[:, 0], myMat[:, 0])"
   ]
  },
  {
   "cell_type": "markdown",
   "metadata": {},
   "source": [
    "## Item-based recommendation engine"
   ]
  },
  {
   "cell_type": "code",
   "execution_count": 53,
   "metadata": {},
   "outputs": [],
   "source": [
    "def standEst(dataMat, user, simMeas, item):\n",
    "    n = shape(dataMat)[1]\n",
    "    simTotal = 0.0\n",
    "    ratSimTotal = 0.0\n",
    "    for j in range(n):\n",
    "        userRating = dataMat[user, j]\n",
    "        if userRating == 0:\n",
    "            continue\n",
    "            \n",
    "        overLap = nonzero(logical_and(dataMat[:, item].A > 0, dataMat[:, j].A > 0))[0]\n",
    "        \n",
    "        if len(overLap) == 0:\n",
    "            similarity = 0\n",
    "        else:\n",
    "            similarity = simMeas(dataMat[overLap, item], dataMat[overLap, j])\n",
    "            \n",
    "        print(\"The %d and %d similarity is: %f\" % (item, j, similarity))\n",
    "        simTotal += similarity\n",
    "        ratSimTotal += similarity * userRating\n",
    "    if simTotal == 0:\n",
    "        return 0;\n",
    "    else:\n",
    "        return ratSimTotal / simTotal"
   ]
  },
  {
   "cell_type": "code",
   "execution_count": 54,
   "metadata": {},
   "outputs": [],
   "source": [
    "def recommend(dataMat, user, N=3, simMeas=cosSim, estMethod=standEst):\n",
    "    unratedItemes = nonzero(dataMat[user, :].A == 0)[1]\n",
    "    if len(unratedItemes) == 0:\n",
    "        return \"You rated everything\"\n",
    "    itemScores = []\n",
    "    for item in unratedItemes:\n",
    "        estimatedScore = estMethod(dataMat, user, simMeas, item)\n",
    "        itemScores.append((item, estimatedScore))\n",
    "    return sorted(itemScores, key=lambda jj: jj[1], reverse=True)[:N]"
   ]
  },
  {
   "cell_type": "code",
   "execution_count": 55,
   "metadata": {},
   "outputs": [],
   "source": [
    "myMat = mat(loadExData())"
   ]
  },
  {
   "cell_type": "code",
   "execution_count": 56,
   "metadata": {},
   "outputs": [],
   "source": [
    "myMat[0, 1] = myMat[0, 0] = myMat[1, 0] = myMat[2, 0] = 4\n",
    "myMat[3, 3] = 2"
   ]
  },
  {
   "cell_type": "code",
   "execution_count": 57,
   "metadata": {},
   "outputs": [
    {
     "data": {
      "text/plain": [
       "matrix([[4, 4, 1, 0, 0],\n",
       "        [4, 2, 2, 0, 0],\n",
       "        [4, 1, 1, 0, 0],\n",
       "        [5, 5, 5, 2, 0],\n",
       "        [1, 1, 0, 2, 2],\n",
       "        [0, 0, 0, 3, 3],\n",
       "        [0, 0, 0, 1, 1]])"
      ]
     },
     "execution_count": 57,
     "metadata": {},
     "output_type": "execute_result"
    }
   ],
   "source": [
    "myMat"
   ]
  },
  {
   "cell_type": "code",
   "execution_count": 58,
   "metadata": {},
   "outputs": [
    {
     "name": "stdout",
     "output_type": "stream",
     "text": [
      "The 3 and 0 similarity is: 0.916025\n",
      "The 3 and 1 similarity is: 0.916025\n",
      "The 3 and 2 similarity is: 1.000000\n",
      "The 4 and 0 similarity is: 1.000000\n",
      "The 4 and 1 similarity is: 1.000000\n",
      "The 4 and 2 similarity is: 0.000000\n"
     ]
    },
    {
     "data": {
      "text/plain": [
       "[(4, 2.5), (3, 1.9703483892927431)]"
      ]
     },
     "execution_count": 58,
     "metadata": {},
     "output_type": "execute_result"
    }
   ],
   "source": [
    "recommend(myMat, 2)"
   ]
  },
  {
   "cell_type": "code",
   "execution_count": 60,
   "metadata": {},
   "outputs": [],
   "source": [
    "myMat2 = mat([\n",
    "    [2, 0, 0, 4, 4, 0, 0, 0, 0, 0, 0],\n",
    "    [0, 0, 0, 0, 0, 0, 0, 0, 0, 0, 5],\n",
    "    [0, 0, 0, 0, 0, 0, 0, 1, 0, 4, 0],\n",
    "    [3, 3, 4, 0, 3, 0, 0, 2, 2, 0, 0],\n",
    "    [5, 5, 5, 0, 0, 0, 0, 0, 0, 0, 0],\n",
    "    [0, 0, 0, 0, 0, 0, 5, 0, 0, 5, 0],\n",
    "    [4, 0, 4, 0, 0, 0, 0, 0, 0, 0, 5],\n",
    "    [0, 0, 0, 0, 0, 4, 0, 0, 0, 0, 4],\n",
    "    [0, 0, 0, 0, 0, 0, 5, 0, 0, 5, 0],\n",
    "    [0, 0, 0, 3, 0, 0, 0, 0, 4, 5, 0],\n",
    "    [1, 1, 2, 1, 1, 2, 1, 0, 4, 5, 0]\n",
    "])"
   ]
  },
  {
   "cell_type": "code",
   "execution_count": 61,
   "metadata": {},
   "outputs": [],
   "source": [
    "from numpy import linalg as la"
   ]
  },
  {
   "cell_type": "code",
   "execution_count": 62,
   "metadata": {},
   "outputs": [],
   "source": [
    "U, Sigma, Vt = la.svd(myMat2)"
   ]
  },
  {
   "cell_type": "code",
   "execution_count": 63,
   "metadata": {},
   "outputs": [
    {
     "data": {
      "text/plain": [
       "array([1.34342819e+01, 1.18190832e+01, 8.20176076e+00, 6.86912480e+00,\n",
       "       5.29063022e+00, 3.91213561e+00, 2.94562509e+00, 2.35486137e+00,\n",
       "       2.08702082e+00, 7.08715931e-01, 1.18673615e-16])"
      ]
     },
     "execution_count": 63,
     "metadata": {},
     "output_type": "execute_result"
    }
   ],
   "source": [
    "Sigma"
   ]
  },
  {
   "cell_type": "code",
   "execution_count": 64,
   "metadata": {},
   "outputs": [],
   "source": [
    "Sig2 = Sigma ** 2"
   ]
  },
  {
   "cell_type": "code",
   "execution_count": 66,
   "metadata": {},
   "outputs": [
    {
     "data": {
      "text/plain": [
       "447.2999999999997"
      ]
     },
     "execution_count": 66,
     "metadata": {},
     "output_type": "execute_result"
    }
   ],
   "source": [
    "sum(Sig2) * 0.9"
   ]
  },
  {
   "cell_type": "code",
   "execution_count": 74,
   "metadata": {},
   "outputs": [
    {
     "data": {
      "text/plain": [
       "434.62441339532046"
      ]
     },
     "execution_count": 74,
     "metadata": {},
     "output_type": "execute_result"
    }
   ],
   "source": [
    "sum(Sig2[:4])"
   ]
  },
  {
   "cell_type": "code",
   "execution_count": 79,
   "metadata": {},
   "outputs": [],
   "source": [
    "def svdEst(dataMat, user, simMeas, item):\n",
    "    n = shape(dataMat)[1]\n",
    "    simTotal = 0.0\n",
    "    ratSimTotal = 0.0\n",
    "    U, Sigma, VT = la.svd(dataMat)\n",
    "    Sig4 = mat(eye(4) * Sigma[:4])\n",
    "    xformedItems = dataMat.T * U[:, :4] * Sig4.I\n",
    "    for j in range(n):\n",
    "        userRating = dataMat[user, j]\n",
    "        if userRating == 0 or j == item:\n",
    "            continue\n",
    "        similarity = simMeas(xformedItems[item, :].T, xformedItems[j, :].T)\n",
    "        print(\"The %d and %d similarity is: %f\" % (item, j, similarity))\n",
    "        simTotal += similarity\n",
    "        ratSimTotal += similarity * userRating\n",
    "    if simTotal == 0:\n",
    "        return 0\n",
    "    else:\n",
    "        return ratSimTotal / simTotal"
   ]
  },
  {
   "cell_type": "code",
   "execution_count": 80,
   "metadata": {},
   "outputs": [
    {
     "name": "stdout",
     "output_type": "stream",
     "text": [
      "The 0 and 10 similarity is: 0.576545\n",
      "The 1 and 10 similarity is: 0.346327\n",
      "The 2 and 10 similarity is: 0.565529\n",
      "The 3 and 10 similarity is: 0.484314\n",
      "The 4 and 10 similarity is: 0.415442\n",
      "The 5 and 10 similarity is: 0.929326\n",
      "The 6 and 10 similarity is: 0.490999\n",
      "The 7 and 10 similarity is: 0.322192\n",
      "The 8 and 10 similarity is: 0.474054\n",
      "The 9 and 10 similarity is: 0.496642\n"
     ]
    },
    {
     "data": {
      "text/plain": [
       "[(0, 5.0), (1, 5.0), (2, 5.0)]"
      ]
     },
     "execution_count": 80,
     "metadata": {},
     "output_type": "execute_result"
    }
   ],
   "source": [
    "recommend(myMat2, 1, estMethod=svdEst)"
   ]
  },
  {
   "cell_type": "markdown",
   "metadata": {},
   "source": [
    "## Image compression with SVD"
   ]
  },
  {
   "cell_type": "code",
   "execution_count": 98,
   "metadata": {},
   "outputs": [],
   "source": [
    "def printMat(inMat, thresh=0.8):\n",
    "    for i in range(32):\n",
    "        for k in range(32):\n",
    "            if float(inMat[i, k]) > thresh:\n",
    "                print('1', end=\"\")\n",
    "            else:\n",
    "                print('.', end=\"\")\n",
    "        print(\" \")"
   ]
  },
  {
   "cell_type": "code",
   "execution_count": 99,
   "metadata": {},
   "outputs": [],
   "source": [
    "def imgCompress(numSV=3, thresh=0.8):\n",
    "    myl = []\n",
    "    for line in open('0_5.txt').readlines():\n",
    "        newRow = []\n",
    "        for i in range(32):\n",
    "            newRow.append(int(line[i]))\n",
    "        myl.append(newRow)\n",
    "    myMat = mat(myl)\n",
    "    print(\"--Original matrix--\")\n",
    "    printMat(myMat, thresh)\n",
    "    U, Sigma, VT = la.svd(myMat)\n",
    "    SigRecon = mat(zeros((numSV, numSV)))\n",
    "    for k in range(numSV):\n",
    "        SigRecon[k, k] = Sigma[k]\n",
    "    reconMat = U[:, :numSV] * SigRecon * VT[:numSV, :]\n",
    "    print()\n",
    "    print(\"--Reconstructed matrix using %d singular values--\" % numSV)\n",
    "    printMat(reconMat, thresh)"
   ]
  },
  {
   "cell_type": "code",
   "execution_count": 100,
   "metadata": {},
   "outputs": [
    {
     "name": "stdout",
     "output_type": "stream",
     "text": [
      "--Original matrix--\n",
      "..............11................ \n",
      "............111111.............. \n",
      "...........11111111............. \n",
      "..........1111111111............ \n",
      "........1111111111111........... \n",
      ".......111111111111111.......... \n",
      "........111111111111111......... \n",
      "........1111111....11111........ \n",
      ".......1111111.....11111........ \n",
      "......111111........1111........ \n",
      "......111111........11111....... \n",
      "......111111.........1111....... \n",
      "......111111.........1111....... \n",
      ".......111111.........1111...... \n",
      "......1111111.........1111...... \n",
      "......111111..........1111...... \n",
      ".......11111..........1111...... \n",
      "......111111..........1111...... \n",
      ".......11111..........1111...... \n",
      ".......11111.........11111...... \n",
      "........11111.........11111..... \n",
      "........11111.........11111..... \n",
      "........11111.........11111..... \n",
      "........11111........11111...... \n",
      "........11111.......111111...... \n",
      "........111111.....111111....... \n",
      ".........1111111111111111....... \n",
      "..........111111111111111....... \n",
      "..........111111111111111....... \n",
      "...........111111111111......... \n",
      "............1111111111.......... \n",
      "..............111111............ \n",
      "\n",
      "--Reconstructed matrix using 2 singular values--\n",
      "................................ \n",
      "................................ \n",
      ".............11111.............. \n",
      "............11111111............ \n",
      "...........1111111111........... \n",
      "..........111111111111.......... \n",
      "..........111111111111.......... \n",
      ".........1111.........1......... \n",
      "........1111..........11........ \n",
      "........1111..........111....... \n",
      "........1111..........111....... \n",
      "........1111..........111....... \n",
      "........1111..........111....... \n",
      "........1111..........111....... \n",
      "........1111..........111....... \n",
      "........1111..........111....... \n",
      "........1111..........111....... \n",
      "........1111..........111....... \n",
      "........1111..........111....... \n",
      "........1111..........111....... \n",
      "........1111..........111....... \n",
      "........1111..........111....... \n",
      "........1111..........111....... \n",
      "........1111..........111....... \n",
      "........1111..........111....... \n",
      "........1111..........11........ \n",
      "..........1111111111111......... \n",
      "..........111111111111.......... \n",
      "..........111111111111.......... \n",
      "............111111111........... \n",
      "............11111111............ \n",
      "................................ \n"
     ]
    }
   ],
   "source": [
    "imgCompress(2)"
   ]
  },
  {
   "cell_type": "code",
   "execution_count": null,
   "metadata": {},
   "outputs": [],
   "source": []
  }
 ],
 "metadata": {
  "kernelspec": {
   "display_name": "Python 3",
   "language": "python",
   "name": "python3"
  },
  "language_info": {
   "codemirror_mode": {
    "name": "ipython",
    "version": 3
   },
   "file_extension": ".py",
   "mimetype": "text/x-python",
   "name": "python",
   "nbconvert_exporter": "python",
   "pygments_lexer": "ipython3",
   "version": "3.6.5"
  }
 },
 "nbformat": 4,
 "nbformat_minor": 2
}
